{
 "cells": [
  {
   "cell_type": "markdown",
   "metadata": {},
   "source": [
    "# <font color='MAROON'>Day 4</font>\n",
    "# <font color='BROWN'>Learning Algorithms (SVM)</font>"
   ]
  },
  {
   "cell_type": "markdown",
   "metadata": {},
   "source": [
    "### The legend of SVM\n",
    "Long Long time ago, a villain kidnapped the sweetheart of John. John, after a long hard journey (Feature Loading, Data Visualization, knn and random forest), found the Villain, demanding the release of his sweetheart.\n",
    "<img src=\"images/svm1.png\">"
   ]
  },
  {
   "cell_type": "markdown",
   "metadata": {},
   "source": [
    "The Villain: if you can solve this problem...\n",
    "    - Separate the red ball from the blue ball on the table, using a stick. \n",
    "<img src=\"images/svm2.png\">"
   ]
  },
  {
   "cell_type": "markdown",
   "metadata": {},
   "source": [
    "John: That is easy.\n",
    "<img src=\"images/svm3.png\">"
   ]
  },
  {
   "cell_type": "markdown",
   "metadata": {},
   "source": [
    "The Villain: if you can solve this problem...\n",
    "    - separate the red ball from the blue ball on the table, using a stick...\n",
    "    - And, I will put more balls on the table, after you place the stick.\n",
    "John:\n",
    "    - If I have a big gap on either side of the stick, it will have better chance to separate those unseen balls.\n",
    "<img src=\"images/svm4.png\">"
   ]
  },
  {
   "cell_type": "markdown",
   "metadata": {},
   "source": [
    "The Villain: ok, now solve this problem… (ha, I do not even know the answer myself it is impossible to solve)\n",
    "    - separate the red ball from the blue ball on the table, using a stick\n",
    "<img src=\"images/svm5.png\">\n",
    "**What should John do?!!!!**"
   ]
  },
  {
   "cell_type": "markdown",
   "metadata": {},
   "source": [
    "John, being a master in Chinese Kung fu, hit the table with his hand (or, he can just flip the table, as we all will do when frustrated)\n",
    "<img src=\"images/svm6.png\">"
   ]
  },
  {
   "cell_type": "markdown",
   "metadata": {},
   "source": [
    "The Villain: How?! What?! Impossible?! WOW!\n",
    "\n",
    "And he gave up...\n",
    "\n",
    "John and his sweetheart re-united, and lived happily ever after\n",
    "<img src=\"images/svm7.png\">"
   ]
  },
  {
   "cell_type": "markdown",
   "metadata": {},
   "source": [
    "### Support Vector Machines\n",
    "A Support Vector Machine (SVM) is a supervised machine learning algorithm that can be employed for finding a hyperplane (decision boundary) that best divides a dataset into two classes.\n",
    "\n",
    "The points that are the nearest to the hyperplane is called \"Support Vectors\" (The ones that are shown by arrows in the below image).\n",
    "\n",
    "<img src=\"images/svm8.png\">\n",
    "\n",
    "As a simple example, for a classification task with only two features (like the above image), you can think of a hyperplane as a line that linearly separates and classifies a set of data (the stick that John used).\n",
    "\n",
    "Intuitively, the further from the hyperplane our data points lie, the more confident we are that they have been correctly classified. We therefore want our data points to be as far away from the hyperplane as possible, while still being on the correct side of it.\n",
    "\n",
    "So when new testing data is added, whatever side of the hyperplane it lands will decide the class that we assign to it.\n",
    "\n",
    "In other words we want the **margin** (the yellow gap) to be as wide as possible.\n",
    "\n",
    "### How do we find the right hyperplane?\n",
    "Or, in other words, how do we best segregate the two classes within the data?\n",
    "\n",
    "The distance between the hyperplane and the nearest data point from either set is known as the margin. The goal is to choose a hyperplane with the greatest possible margin between the hyperplane and any point within the training set, giving a greater chance of new data being classified correctly.\n",
    "\n",
    "This is equivalent to finding the slope and y_intercept of our decision boundary. \n",
    "\n",
    "$$y = w_1x + w_0$$\n",
    "\n",
    "The common way to find the parameters is by using some optimization which is out of scope of this course.\n",
    "\n",
    "Any points that lie on the line (decision boundary) will give us $w_1x + w_0 - y = 0$. Suppose we have a sample from the test set. Based on the value that the equaition $w_1x + w_0 - y$ will give us, we can classify the new sample as blue ball or red ball (i.e. $w_1x + w_0 - y > 0$ for one class and $w_1x + w_0 - y < 0$ for the other one).\n",
    "\n",
    "\n",
    "### But what happens when there is no clear hyperplane?\n",
    "This is where it can get tricky. Data is rarely ever as clean as our simple example above. A dataset will often look more like the jumbled balls that the Villain showed to John as the ultimate problem which represent a linearly non separable dataset.\n",
    "\n",
    "In order to classify a dataset like the one the Villain showed, it’s necessary to move away from a 2d view of the data to a 3d view. Then, While the balls are up in the air, you use the sheet to separate them. This ‘lifting’ of the balls represents the mapping of data into a higher dimension. This is known as **kernelling**.\n",
    "\n",
    "Because we are now in three dimensions, our hyperplane can no longer be a line. It must now be a plane as shown in the example above. The idea is that the data will continue to be mapped into higher and higher dimensions until a hyperplane can be formed to segregate it."
   ]
  },
  {
   "cell_type": "markdown",
   "metadata": {},
   "source": [
    "### Examples\n",
    "1. Suppose My training examples are:\n",
    "\n",
    "    Class 1: (1, 1), (1, 2), (2, 3)\n",
    "    \n",
    "    Class 2: (6, 1), (6, 5), (7, 4), (8, 8)\n",
    "    \n",
    "    What is the equation for decision boundary? (HINT: sketch the data on paper, use two different shapes for the points of different classes)"
   ]
  },
  {
   "cell_type": "code",
   "execution_count": null,
   "metadata": {},
   "outputs": [],
   "source": [
    "# Your Answer: "
   ]
  },
  {
   "cell_type": "markdown",
   "metadata": {},
   "source": [
    "Which points are support vectors?"
   ]
  },
  {
   "cell_type": "code",
   "execution_count": null,
   "metadata": {},
   "outputs": [],
   "source": [
    "# Your Answer: "
   ]
  },
  {
   "cell_type": "markdown",
   "metadata": {},
   "source": [
    "Suppose my test examples are (8, 1), (-1, 2), (-2, -2) and (7, -5). Based on the decision boundary of SVM, what class each belog too?"
   ]
  },
  {
   "cell_type": "code",
   "execution_count": null,
   "metadata": {},
   "outputs": [],
   "source": [
    "# Your Answer: "
   ]
  },
  {
   "cell_type": "markdown",
   "metadata": {},
   "source": [
    "*Show your work to the Instructor*"
   ]
  },
  {
   "cell_type": "markdown",
   "metadata": {},
   "source": [
    "Search and find the scikit learn documentation on SVM.\n",
    "Implement the SVM for your heart disease data using following steps:\n",
    "1. Load your data and the labels.\n",
    "2. Split them to train and test sets.\n",
    "3. Train the svm.\n",
    "4. Find the labels for test set.\n",
    "5. Calculate the accuracy.\n",
    "6. Find out how you can change the kernel in SVM. Try different kernels and report the accuracy for each. For your data, does changing the kernel improve the accuracy?"
   ]
  },
  {
   "cell_type": "code",
   "execution_count": null,
   "metadata": {},
   "outputs": [],
   "source": [
    "# Your code"
   ]
  },
  {
   "cell_type": "code",
   "execution_count": null,
   "metadata": {},
   "outputs": [],
   "source": [
    "# Accuracy:\n",
    "#    Linear SVM:\n",
    "#    Kernel 1 \n",
    "#    Kernel 2"
   ]
  },
  {
   "cell_type": "markdown",
   "metadata": {},
   "source": [
    "References:\n",
    "- A reddit post [[HERE]](https://www.reddit.com/r/MachineLearning/comments/15zrpp/please_explain_support_vector_machines_svm_like_i/please_explain_support_vector_machines_svm_like_i/)\n",
    "- Support Vector Machines [[HERE]](http://blog.aylien.com/support-vector-machines-for-dummies-a-simple/)"
   ]
  }
 ],
 "metadata": {
  "kernelspec": {
   "display_name": "Python 2",
   "language": "python",
   "name": "python2"
  },
  "language_info": {
   "codemirror_mode": {
    "name": "ipython",
    "version": 2
   },
   "file_extension": ".py",
   "mimetype": "text/x-python",
   "name": "python",
   "nbconvert_exporter": "python",
   "pygments_lexer": "ipython2",
   "version": "2.7.14"
  }
 },
 "nbformat": 4,
 "nbformat_minor": 2
}
