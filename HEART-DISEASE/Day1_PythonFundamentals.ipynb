{
 "cells": [
  {
   "cell_type": "markdown",
   "metadata": {},
   "source": [
    "# <font color='SEAGREEN'>Day 1</font>\n",
    "# <font color='MEDIUMSEAGREEN'>Introduction to Types of Data</font>\n",
    "## Python\n",
    "Python is a popular language because it is open source, easy to learn, and has support for many popular libraries.\n",
    "There are two popular editions for Python: Python 2.X and Python 3.X. Python 2.X will be out of market soon, so it is better for us to get more familiar with the third edition.\n",
    "\n",
    "The main strength of Python for machine learning and data science is the abundance of dependable\n",
    "libraries. There are packages for scientific computing (Numpy and Scipy), machine learning\n",
    "(Scikit-learn), image processing (Scikit-image), computer vision (OpenCV), data visualization\n",
    "(Matplotlib) and deep learning (Pytorch, Tensorflow, MxNet, etc.). Most of these libraries can\n",
    "be installed with a single **pip** command, which makes setup very easy.\n",
    "\n",
    "## Jupyter Notebook\n",
    "\n",
    "Jupyter divides Python code into neat units called a cell. There are two types of cell!\n",
    "- **Markup cells** contain text, like this cell. Double click them to edit the text, and then press **< Shift > + < Enter >** to render it with formatting. Try double-clicking this text!\n",
    "- **Code cells** contain executable python code. Click them to edit the code, then press **< Shift > + < Enter >** to execute the block. Try it out below!\n"
   ]
  },
  {
   "cell_type": "code",
   "execution_count": 1,
   "metadata": {},
   "outputs": [
    {
     "name": "stdout",
     "output_type": "stream",
     "text": [
      "Hi, I'm a code cell! Click me and press shift + enter.\n"
     ]
    }
   ],
   "source": [
    "print(\"Hi, I'm a code cell! Click me and press shift + enter.\")"
   ]
  },
  {
   "cell_type": "markdown",
   "metadata": {},
   "source": [
    "You can add new cells using the plus sign on the menu above. Take a few minutes to look at the different options offered in the menu! There are a few that are especially useful: \n",
    "\n",
    "- File Menu \n",
    "    - \"Download As\" lets you save your notebook to your computer as a .ipynb file\n",
    "- Kernel Menu\n",
    "    - \"Restart the kernel\" clears the output of every cell. Can be useful if your code gets stuck!\n",
    "- Cell Menu\n",
    "    - \"Cell Type\" lets you change the type of cell you are working with\n",
    "    \n",
    "## Python Refresher\n",
    "First, let's do some exercises to refresh our memory of a few Python concepts.\n",
    "### Python objects, basic types, and variables\n",
    "Everything in Python is an **object** and every object in Python has a **type**. Some of the basic types include:\n",
    "\n",
    "- **`int`** (integer; a whole number with no decimal place)\n",
    "- **`float`** (float; a number that has a decimal place)\n",
    "- **`str`** (string; a sequence of characters enclosed in single quotes, double quotes, or triple quotes)\n",
    "- **`bool`** (boolean; a binary value that is either 'True' or 'False')\n",
    "- **`NoneType`** (a special type representing the absence of a value)\n",
    "\n",
    "In Python, a **variable** is a name you specify in your code that represents a specific **instance** of an object\n",
    "\n",
    "Defining variable names helps you remember what an object is supposed to represent or what you want to do with that object (so pick meaningful names!). Variables also allow you a lot of flexibility, letting you modify their value without having to know exactly what the new value should be. You'll see this later. \n",
    "<hr>\n",
    "\n"
   ]
  },
  {
   "cell_type": "code",
   "execution_count": 2,
   "metadata": {},
   "outputs": [
    {
     "data": {
      "text/plain": [
       "20"
      ]
     },
     "execution_count": 2,
     "metadata": {},
     "output_type": "execute_result"
    }
   ],
   "source": [
    "# Take a guess!\n",
    "some_num1 = 1\n",
    "some_num2 = 4\n",
    "(some_num1 + some_num2) * some_num2"
   ]
  },
  {
   "cell_type": "code",
   "execution_count": 3,
   "metadata": {},
   "outputs": [
    {
     "data": {
      "text/plain": [
       "True"
      ]
     },
     "execution_count": 3,
     "metadata": {},
     "output_type": "execute_result"
    }
   ],
   "source": [
    "# What type of variable will the result be?\n",
    "some_num1 + some_num2 == 5"
   ]
  },
  {
   "cell_type": "code",
   "execution_count": 4,
   "metadata": {},
   "outputs": [
    {
     "data": {
      "text/plain": [
       "'an example of strings '"
      ]
     },
     "execution_count": 4,
     "metadata": {},
     "output_type": "execute_result"
    }
   ],
   "source": [
    "# What might this do?\n",
    "simple_string1 = 'an example '\n",
    "simple_string2 = \"of strings \"\n",
    "simple_string1 + simple_string2"
   ]
  },
  {
   "cell_type": "code",
   "execution_count": 5,
   "metadata": {},
   "outputs": [
    {
     "data": {
      "text/plain": [
       "'an example '"
      ]
     },
     "execution_count": 5,
     "metadata": {},
     "output_type": "execute_result"
    }
   ],
   "source": [
    "# Important! Notice that the string was not modified\n",
    "simple_string1"
   ]
  },
  {
   "cell_type": "code",
   "execution_count": 6,
   "metadata": {},
   "outputs": [
    {
     "data": {
      "text/plain": [
       "False"
      ]
     },
     "execution_count": 6,
     "metadata": {},
     "output_type": "execute_result"
    }
   ],
   "source": [
    "# Are these two expressions equal to each other?\n",
    "simple_string1 == simple_string2"
   ]
  },
  {
   "cell_type": "code",
   "execution_count": 7,
   "metadata": {},
   "outputs": [
    {
     "data": {
      "text/plain": [
       "'an example that re-assigned the original string'"
      ]
     },
     "execution_count": 7,
     "metadata": {},
     "output_type": "execute_result"
    }
   ],
   "source": [
    "# Add and re-assign\n",
    "simple_string1 += 'that re-assigned the original string'\n",
    "simple_string1"
   ]
  },
  {
   "cell_type": "markdown",
   "metadata": {},
   "source": [
    "### Basic containers\n",
    "\n",
    "> Note: **mutable** objects can be modified after creation and **immutable** objects cannot.\n",
    "\n",
    "Containers are objects that can be used to group other objects together. Some useful container types are:\n",
    "\n",
    "- **`str`** (string: immutable; indexed by integers; items are stored in the order they were added)\n",
    "- **`list`** (list: mutable; indexed by integers; items are stored in the order they were added)\n",
    "  - `[3, 5, 6, 3, 'dog', 'cat', False]`\n",
    "- **`tuple`** (tuple: immutable; indexed by integers; items are stored in the order they were added)\n",
    "  - `(3, 5, 6, 3, 'dog', 'cat', False)`\n",
    "- **`set`** (set: mutable; not indexed at all; items are NOT stored in the order they were added; can only contain immutable objects; does NOT contain duplicate objects)\n",
    "  - `{3, 5, 6, 3, 'dog', 'cat', False}`\n",
    "- **`dict`** (dictionary: mutable; key-value pairs are indexed by immutable keys; items are NOT stored in the order they were added)\n",
    "  - `{'name': 'Jane', 'age': 23, 'fav_foods': ['pizza', 'fruit', 'fish']}`\n",
    "\n",
    "When defining lists, tuples, or sets, use commas (,) to separate the individual items. When defining dicts, use a colon (:) to separate keys from values and commas (,) to separate the key-value pairs.\n",
    "\n",
    "Strings, lists, and tuples can use all the `+`, `*`, `+=`, and `*=` operators. \n",
    "\n",
    "You can modify items in lists and tuples by using the index of the value. \n",
    "- list[0] is the first value in a list (programming basically always starts at 0 index!). \n",
    "\n",
    "You can modify items in a dictionary by using the key for that item:\n",
    "- dict[key] is the dictionary item with key \"key\""
   ]
  },
  {
   "cell_type": "code",
   "execution_count": 8,
   "metadata": {},
   "outputs": [],
   "source": [
    "# Assign some containers to different variables\n",
    "list1 = [99, \"Bottles \", \"of pop \", \"on the wall\"]\n",
    "tuple1 = (99, \"Bottles \", \"of pop\")\n",
    "dict1 = {'Number of bottles of pop on the wall': 98}"
   ]
  },
  {
   "cell_type": "code",
   "execution_count": 9,
   "metadata": {},
   "outputs": [
    {
     "data": {
      "text/plain": [
       "[99, 'Bottles ', 'of pop ', 'on the wall']"
      ]
     },
     "execution_count": 9,
     "metadata": {},
     "output_type": "execute_result"
    }
   ],
   "source": [
    "# Items in the list object are stored in the order they were added\n",
    "list1"
   ]
  },
  {
   "cell_type": "code",
   "execution_count": 10,
   "metadata": {},
   "outputs": [
    {
     "data": {
      "text/plain": [
       "(99, 'Bottles ', 'of pop')"
      ]
     },
     "execution_count": 10,
     "metadata": {},
     "output_type": "execute_result"
    }
   ],
   "source": [
    "# Items in the tuple object are stored in the order they were added\n",
    "tuple1"
   ]
  },
  {
   "cell_type": "code",
   "execution_count": 11,
   "metadata": {},
   "outputs": [
    {
     "data": {
      "text/plain": [
       "{'Number of bottles of pop on the wall': 98}"
      ]
     },
     "execution_count": 11,
     "metadata": {},
     "output_type": "execute_result"
    }
   ],
   "source": [
    "# Items in the dict object are not stored in the order they were added\n",
    "dict1"
   ]
  },
  {
   "cell_type": "code",
   "execution_count": 12,
   "metadata": {},
   "outputs": [
    {
     "data": {
      "text/plain": [
       "[98, 'Bottles ', 'of pop ', 'on the wall']"
      ]
     },
     "execution_count": 12,
     "metadata": {},
     "output_type": "execute_result"
    }
   ],
   "source": [
    "# You can change a list item\n",
    "list1[0] = 98\n",
    "list1\n",
    "# But you CAN'T change a tuple item"
   ]
  },
  {
   "cell_type": "code",
   "execution_count": 13,
   "metadata": {},
   "outputs": [
    {
     "data": {
      "text/plain": [
       "{'Number of bottles of pop on the wall': 96}"
      ]
     },
     "execution_count": 13,
     "metadata": {},
     "output_type": "execute_result"
    }
   ],
   "source": [
    "# Re-assign a dict item\n",
    "dict1[\"Number of bottles of pop on the wall\"] = 96\n",
    "dict1"
   ]
  },
  {
   "cell_type": "markdown",
   "metadata": {},
   "source": [
    "### Functions\n",
    "A Python function is written like this:\n",
    "\n",
    "```python\n",
    "def square(x):\n",
    "    return x**2\n",
    "```\n",
    "    \n",
    "The name of the function is square, x is the input variable, and the return keyword tells us what to give as output."
   ]
  },
  {
   "cell_type": "code",
   "execution_count": 14,
   "metadata": {},
   "outputs": [
    {
     "name": "stdout",
     "output_type": "stream",
     "text": [
      "Testing:\n"
     ]
    },
    {
     "ename": "NameError",
     "evalue": "name 'weight_conversion' is not defined",
     "output_type": "error",
     "traceback": [
      "\u001b[1;31m\u001b[0m",
      "\u001b[1;31mNameError\u001b[0mTraceback (most recent call last)",
      "\u001b[1;32m<ipython-input-14-45cbc684599b>\u001b[0m in \u001b[0;36m<module>\u001b[1;34m()\u001b[0m\n\u001b[0;32m      7\u001b[0m \u001b[1;32mprint\u001b[0m\u001b[1;33m(\u001b[0m\u001b[1;34m\"Testing:\"\u001b[0m\u001b[1;33m)\u001b[0m\u001b[1;33m\u001b[0m\u001b[0m\n\u001b[0;32m      8\u001b[0m \u001b[1;32mfor\u001b[0m \u001b[0mx\u001b[0m \u001b[1;32min\u001b[0m \u001b[1;33m[\u001b[0m\u001b[1;36m10\u001b[0m\u001b[1;33m,\u001b[0m \u001b[1;36m22\u001b[0m\u001b[1;33m,\u001b[0m \u001b[1;36m180\u001b[0m\u001b[1;33m,\u001b[0m \u001b[1;36m0\u001b[0m\u001b[1;33m]\u001b[0m\u001b[1;33m:\u001b[0m\u001b[1;33m\u001b[0m\u001b[0m\n\u001b[1;32m----> 9\u001b[1;33m     \u001b[1;32mprint\u001b[0m\u001b[1;33m(\u001b[0m\u001b[0mstr\u001b[0m\u001b[1;33m(\u001b[0m\u001b[0mx\u001b[0m\u001b[1;33m)\u001b[0m\u001b[1;33m,\u001b[0m \u001b[1;34m\" -> \"\u001b[0m\u001b[1;33m,\u001b[0m \u001b[0mstr\u001b[0m\u001b[1;33m(\u001b[0m\u001b[0mweight_conversion\u001b[0m\u001b[1;33m(\u001b[0m\u001b[0mx\u001b[0m\u001b[1;33m)\u001b[0m\u001b[1;33m)\u001b[0m\u001b[1;33m)\u001b[0m\u001b[1;33m\u001b[0m\u001b[0m\n\u001b[0m\u001b[0;32m     10\u001b[0m     \u001b[1;32mprint\u001b[0m\u001b[1;33m(\u001b[0m\u001b[1;34m\"CORRECT\"\u001b[0m \u001b[1;32mif\u001b[0m \u001b[0mweight_conversion\u001b[0m\u001b[1;33m(\u001b[0m\u001b[0mx\u001b[0m\u001b[1;33m)\u001b[0m\u001b[1;33m==\u001b[0m\u001b[1;33m(\u001b[0m\u001b[0mx\u001b[0m\u001b[1;33m/\u001b[0m\u001b[1;36m2.2\u001b[0m\u001b[1;33m)\u001b[0m \u001b[1;32melse\u001b[0m \u001b[1;34m\"INCORRECT\"\u001b[0m\u001b[1;33m)\u001b[0m\u001b[1;33m\u001b[0m\u001b[0m\n",
      "\u001b[1;31mNameError\u001b[0m: name 'weight_conversion' is not defined"
     ]
    }
   ],
   "source": [
    "# Exercise 1. Define a function called weight_conversion,that takes one variable (x) in pounds\n",
    "# uses the conversion formula Kilograms = pounds/2.2 and returns the weight in kilograms.\n",
    "\n",
    "#### YOUR CODE STARTS HERE ####\n",
    "#### YOUR CODE ENDS HERE ####\n",
    "\n",
    "print(\"Testing:\")\n",
    "for x in [10, 22, 180, 0]:\n",
    "    print(str(x), \" -> \", str(weight_conversion(x)))\n",
    "    print(\"CORRECT\" if weight_conversion(x)==(x/2.2) else \"INCORRECT\")"
   ]
  },
  {
   "cell_type": "markdown",
   "metadata": {},
   "source": [
    "### If-else statements\n",
    "\n",
    "An if/else statement looks like this:\n",
    "\n",
    "```\n",
    "if electoral_votes >= 270:\n",
    "    print(\"You win the election\")\n",
    "else:\n",
    "    print(\"You lose the election\")\n",
    "```\n",
    "\n",
    "The if-statement is evaluated (`electoral_votes >= 270`); if it's true then the code under the `if` is executed, if it's false then the code under the `else` is executed."
   ]
  },
  {
   "cell_type": "code",
   "execution_count": null,
   "metadata": {},
   "outputs": [],
   "source": [
    "# Exercise 2. Define a function called \"contains_ss\" that takes one variable (word) \n",
    "# and returns True if the word contains a double-s and False if it doesn't.\n",
    "# Hint: to test whether a string e.g. \"ss\" is inside another string variable e.g. word, write\n",
    "#    if \"ss\" in word: \n",
    "\n",
    "#### YOUR CODE STARTS HERE ####\n",
    "\n",
    "\n",
    "#### YOUR CODE ENDS HERE ####\n",
    "\n",
    "print(\"Testing:\")\n",
    "for word in [\"computer\", \"science\", \"lesson\"]:\n",
    "    print(\"{:s} ->\".format(word, contains_ss(word)), end=' ')\n",
    "    print(\"CORRECT\" if contains_ss(word)==(\"ss\" in word) else \"INCORRECT\")"
   ]
  },
  {
   "cell_type": "markdown",
   "metadata": {},
   "source": [
    "### More complex if-else statements\n",
    "\n",
    "Maybe you want to check *several* conditions? You can use an if/elif/else statement.\n",
    "\n",
    "```\n",
    "if teamA_score > teamB_score:\n",
    "    print(\"Team A wins\")\n",
    "elif teamA_score < teamB_score:\n",
    "    print(\"Team B wins\")\n",
    "else:\n",
    "    print(\"It's a tie!\")\n",
    "```\n",
    "\n",
    "`elif` stands for \"else if\". In fact, the above code is just a neater way of writing this:\n",
    "```\n",
    "if teamA_score > teamB_score:\n",
    "    print(\"Team A wins\")\n",
    "else:\n",
    "    if teamA_score < teamB_score:\n",
    "        print(\"Team B wins\")\n",
    "    else:\n",
    "        print(\"It's a tie!\")\n",
    "```\n",
    "\n",
    "You can have as many `elif` statments as you like. These are useful for when you want several options."
   ]
  },
  {
   "cell_type": "code",
   "execution_count": null,
   "metadata": {},
   "outputs": [],
   "source": [
    "# Exercise 3. Define a function called \"grade\" that takes one input (score).\n",
    "# If score >= 90, return the string \"A\"\n",
    "# Otherwise, if score >= 80, return the string \"B\"\n",
    "# Otherwise, if score >= 70, return the string \"C\"\n",
    "# Otherwise, if score >= 60, return the string \"D\"\n",
    "# Otherwise, if score >= 50, return the string \"E\"\n",
    "# Otherwise, return the string \"F\"\n",
    "\n",
    "#### YOUR CODE STARTS HERE ####\n",
    "\n",
    "\n",
    "#### YOUR CODE ENDS HERE ####\n",
    "\n",
    "\n",
    "print(\"Testing:\")\n",
    "for (score,g) in [(77,\"C\"),(80,\"B\"),(32,\"F\"),(100,\"A\"),(69,\"D\")]:\n",
    "    print(\"{:d} -> {:s}\".format((score, grade(score))), end=' ')\n",
    "    print(\"CORRECT\" if grade(score)==g else \"INCORRECT\")"
   ]
  },
  {
   "cell_type": "markdown",
   "metadata": {},
   "source": [
    "### Loops\n",
    "\n",
    "Loops are a useful tool that lets you reuse blocks of code without having to retype everything. There are several kinds of loops. The difference between them is what controls how many times they run: \n",
    "- **While** loops run as long as the condition at the top is True. That means they can run forever if you're not careful!\n",
    "- **For** loops run for as many times as there are objects in the container at the top of the loop."
   ]
  },
  {
   "cell_type": "code",
   "execution_count": null,
   "metadata": {},
   "outputs": [],
   "source": [
    "# An example of a while loop. What is the condition? What would happen if you didn't subtract one from index each time?\n",
    "index = 5\n",
    "while index > 0:\n",
    "    print(index)\n",
    "    index -= 1"
   ]
  },
  {
   "cell_type": "code",
   "execution_count": null,
   "metadata": {},
   "outputs": [],
   "source": [
    "# An example of a for loop. What is the collection?\n",
    "my_list = [5, 4, 3, 2, 1]\n",
    "for number in my_list:\n",
    "    print(number)"
   ]
  },
  {
   "cell_type": "markdown",
   "metadata": {},
   "source": [
    "A handy trick with loops is the range function. Say you want your loop to run 5 times, but you don't want to have to make a list with 5 numbers. You can do this:"
   ]
  },
  {
   "cell_type": "code",
   "execution_count": null,
   "metadata": {},
   "outputs": [],
   "source": [
    "# The syntax for the range function is range(start, end, increment). \n",
    "# If you only include one argument, the function will start at 0 and go until that number, increasing by 1 each time. \n",
    "for number in range(5, 0, -1):\n",
    "    print(number)"
   ]
  },
  {
   "cell_type": "markdown",
   "metadata": {},
   "source": [
    "### Python built-in functions\n",
    "\n",
    "A **function** is a Python object that you can \"call\" to **perform an action** or compute and **return another object**. You call a function by placing parentheses to the right of the function name. Some functions allow you to pass **arguments** inside the parentheses (separating multiple arguments with a comma). Internal to the function, these arguments are treated like variables.\n",
    "\n",
    "Python has several useful built-in functions to help you work with different objects and/or your environment. Here is a small sample of them:\n",
    "\n",
    "- **`type(obj)`** to determine the type of an object\n",
    "- **`len(container)`** to determine how many items are in a container\n",
    "- **`sorted(container)`** to return a new list from a container, with the items sorted\n",
    "- **`sum(container)`** to compute the sum of a container of numbers\n",
    "- **`min(container)`** to determine the smallest item in a container\n",
    "- **`max(container)`** to determine the largest item in a container\n",
    "- **`abs(number)`** to determine the absolute value of a number\n",
    "- **`repr(obj)`** to return a string representation of an object\n",
    "\n",
    "> Complete list of built-in functions: https://docs.python.org/3/library/functions.html\n"
   ]
  },
  {
   "cell_type": "code",
   "execution_count": null,
   "metadata": {},
   "outputs": [],
   "source": [
    "# Try out a few of the builtin methods below! See if you can predict the output for each one. "
   ]
  },
  {
   "cell_type": "markdown",
   "metadata": {},
   "source": [
    "## Importing modules\n",
    "\n",
    "- Modules are pre-packaged groups of Python files that you can import\n",
    "- After importing a module, you can use its functions without having to write them yourself\n",
    "- Here is a simple example of importing and using a module called numpy, which provides support for lots of different calculations and mathematical data structures:"
   ]
  },
  {
   "cell_type": "code",
   "execution_count": null,
   "metadata": {},
   "outputs": [],
   "source": [
    "# This line does the importing!\n",
    "# The format is: \"import (packagename) as (name you want to use for package in code).\n",
    "# If you leave the second part out, it will be called by its original name\n",
    "import numpy as np\n",
    "\n",
    "# Here is an example of a numpy ndarray, a really useful data structure to understand. It is an array of any dimensions,\n",
    "# Usually used to hold numbers. Numpy provides a lot of useful mathematical tools to work on arrays. \n",
    "\n",
    "ex_array = np.array([[1,2,3],[4,5,6]])    # Create a rank 2 array\n",
    "print(type(ex_array))            # Prints \"<class 'numpy.ndarray'>\"\n",
    "print(ex_array.shape)                     # Prints \"(2, 3)\"\n",
    "print(b[0, 0], b[0, 1], b[1, 0])   # Prints \"1 2 4\"\n",
    "ex_array[0,0] = 3\n",
    "print(ex_array)"
   ]
  },
  {
   "cell_type": "markdown",
   "metadata": {},
   "source": [
    "- To learn about what different functions or objects a module contains, you have to consult its documentation. For example, here is a link to the numpy documentation: https://docs.scipy.org/doc/numpy-1.14.0/reference/\n",
    "- Try picking a new function from the documentation and applying it to ex_array. What kinds of interesting things can you do?"
   ]
  },
  {
   "cell_type": "code",
   "execution_count": null,
   "metadata": {},
   "outputs": [],
   "source": [
    "# Your code:"
   ]
  },
  {
   "cell_type": "markdown",
   "metadata": {},
   "source": [
    "## Data\n",
    "In machine learning, data is represented in a tabular format. Consider the example of predicting whether an individual who visits an online book seller is going to buy a specific book. This prediction can be performed by analyzing the individual’s interests and previous purchase history. For instance, when John has spent a lot of money on the site, has bought similar\n",
    "books, and visits the site frequently, it is likely for John to buy that specific book. John is an example of an instance. Instances are also called points, data points, or observations. A dataset consists of one or more instances:\n",
    "\n",
    "<img src=\"images/tb1.png\">\n",
    "\n",
    "A dataset is represented using a set of features, and an instance is represented using values assigned to these features. Features are also known as *measurements* or *attributes*. In the above example, the features are Name, Money Features, Measurements, or Attributes Spent, Bought Similar, and Visits; feature values for the first instance are John, High, Yes, and Frequently. Given the feature values for one instance, one tries to predict its class (or class attribute) value. In our example, the class attribute is Will Buy, and our class value prediction for first instance is Yes. An instance such as John in which the class attribute value is unknown is called an unlabeled instance. Similarly, a labeled instance is an instance in which the class attribute value in known. Mary in this Labeled and dataset represents a labeled instance. The class attribute is optional in a Unlabeled dataset and is only necessary for prediction or classification purposes. One can have a dataset in which no class attribute is present, such as a list of customers and their characteristics.\n",
    "\n",
    "There are different types of features based on the characteristics of the feature and the values they can take. For instance, Money Spent can be represented using numeric values, such as $25. In that case, we have a continuous feature, whereas in our example it is a discrete feature, which can take a number of ordered values: {High, Normal, Low}.\n",
    "\n",
    "### Different Types of Data\n",
    "\n",
    "1. **Nominal (categorical)**. These features take values that are often represented as strings. For instance, a customer’s name is a nominal feature. In general, a few statistics can be computed on nominal features. Examples are the chi-square statistic (χ2) and the mode (most common feature value). For example, one can find the most common first name among customers. The only possible transformation on the data is comparison. For example, we can check whether our customer’s name is John or not. Nominal feature values are often presented in a set format.\n",
    "\n",
    "2. **Ordinal**. Ordinal features lay data on an ordinal scale. In other words, the feature values have an intrinsic order to them. In our example, Money Spent is an ordinal feature because a High value for Money Spent is more than a Low one.\n",
    "\n",
    "3. **Interval**. In interval features, in addition to their intrinsic ordering, differences are meaningful whereas ratios are meaningless. For interval features, addition and subtraction are allowed, whereas multiplications and division are not. Consider two time readings: 6:16 PM and 3:08 PM. The difference between these two time readings is meaningful (3 hours and 8 minutes); however, there is no meaning to $\\frac{6:16 PM}{3:08 PM} \\neq 2$.\n",
    "\n",
    "4. **Ratio**. Ratio features, as the name suggests, add the additional properties of multiplication and division. An individual’s income is an example of a ratio feature where not only differences and additions are meaningful but ratios also have meaning (e.g., an individual’s income can be twice as much as John’s income).\n",
    "\n",
    "### Example\n",
    "Study the below table and list the type of each feature. Explain.\n",
    "\n",
    "<img src=\"images/tb2.png\">"
   ]
  },
  {
   "cell_type": "code",
   "execution_count": null,
   "metadata": {},
   "outputs": [],
   "source": [
    "# Your answer:\n",
    "# 1. Outlook:\n",
    "# 2. Temperature:\n",
    "# 3. Humidity:\n",
    "# 4. Windy:\n",
    "# 5. Play:"
   ]
  },
  {
   "cell_type": "markdown",
   "metadata": {},
   "source": [
    "## Dataset\n",
    "To download the data go to [HERE](link) and download the following file:\n",
    "\n",
    "    - heart.csv\n",
    "\n",
    "This file contain the data for the heart disease in the \"csv\" format. \"csv\" stands for \"comma-separate values\". We'll use this information later, when we tell the program how to load this data.\n",
    "\n",
    "PRO TIP: Make sure that the downloaded datasets and this jupyter notebook are in the same directory (folder), else you will have problems later.\n",
    "\n",
    "Open the file (with Microsoft Excel) and understand what the data contains.\n",
    "Try to answer the following questions:\n",
    "\n",
    "    - What features/attributes are provided?\n",
    "    - What each line represents?\n"
   ]
  },
  {
   "cell_type": "code",
   "execution_count": null,
   "metadata": {},
   "outputs": [],
   "source": [
    "# Write your answers in comments below (1 line, each):\n",
    "# Answer to Q1.\n",
    "# Answer to Q2."
   ]
  },
  {
   "cell_type": "markdown",
   "metadata": {},
   "source": [
    "The [original data](https://archive.ics.uci.edu/ml/datasets/Heart+Disease) contains 76 attributes, but all published experiments refer to using a subset of 14 of them.\n",
    "\n",
    "Go to above link (Click on \"original data\"), read out the descriptions about the features."
   ]
  },
  {
   "cell_type": "markdown",
   "metadata": {},
   "source": [
    "Find out what are the types of the data (this is important for future coding and improving the accuracy of the data)"
   ]
  },
  {
   "cell_type": "code",
   "execution_count": 1,
   "metadata": {},
   "outputs": [],
   "source": [
    "#Your answer (e.g: feature1: nominal, because we can only compare the values)"
   ]
  },
  {
   "cell_type": "markdown",
   "metadata": {},
   "source": [
    "### Load the Data\n",
    "To load the data we should import the needed packages/libraries for our dataset."
   ]
  },
  {
   "cell_type": "code",
   "execution_count": null,
   "metadata": {},
   "outputs": [],
   "source": [
    "import pandas as pd"
   ]
  },
  {
   "cell_type": "markdown",
   "metadata": {},
   "source": [
    "Run the following code to load the data you downloaded into DataFrames."
   ]
  },
  {
   "cell_type": "code",
   "execution_count": null,
   "metadata": {},
   "outputs": [],
   "source": [
    "data = pd.read_csv(\"heart.csv\")"
   ]
  },
  {
   "cell_type": "code",
   "execution_count": null,
   "metadata": {},
   "outputs": [],
   "source": [
    "data.head()"
   ]
  },
  {
   "cell_type": "markdown",
   "metadata": {},
   "source": [
    "What do you think the head() function do?"
   ]
  },
  {
   "cell_type": "code",
   "execution_count": null,
   "metadata": {},
   "outputs": [],
   "source": [
    "# Write down your answer in comments (one line):\n",
    "#"
   ]
  },
  {
   "cell_type": "code",
   "execution_count": null,
   "metadata": {},
   "outputs": [],
   "source": [
    "data.iloc[0]"
   ]
  },
  {
   "cell_type": "code",
   "execution_count": null,
   "metadata": {},
   "outputs": [],
   "source": [
    "data.iloc[0][0]"
   ]
  },
  {
   "cell_type": "markdown",
   "metadata": {},
   "source": [
    "What does .iloc return?"
   ]
  },
  {
   "cell_type": "code",
   "execution_count": null,
   "metadata": {},
   "outputs": [],
   "source": [
    "# Write down your answer in comments (one line):\n",
    "#"
   ]
  },
  {
   "cell_type": "markdown",
   "metadata": {},
   "source": [
    "### Layout of the Data\n",
    "The ``.columns`` parameter of a DataFrame tells us the name of the columns. Run the following cells to examine the column names of the DataFrame we just created."
   ]
  },
  {
   "cell_type": "code",
   "execution_count": null,
   "metadata": {},
   "outputs": [],
   "source": [
    "data.columns"
   ]
  },
  {
   "cell_type": "markdown",
   "metadata": {},
   "source": [
    "Now that we've looked at the columns of the dataset, let's look at the rows. How many rows are in each dataset? We can use the ``.shape`` parameter to tell us about the number of rows in the dataset. Can you guess what the second number, returned by ``.shape``, corresponds to?"
   ]
  },
  {
   "cell_type": "code",
   "execution_count": null,
   "metadata": {},
   "outputs": [],
   "source": [
    "data.shape"
   ]
  },
  {
   "cell_type": "code",
   "execution_count": null,
   "metadata": {},
   "outputs": [],
   "source": [
    "# Your answer:"
   ]
  },
  {
   "cell_type": "markdown",
   "metadata": {},
   "source": [
    "**Exercises:**\n",
    "- Divide the content of even rows by 2. Print the 5 first rows."
   ]
  },
  {
   "cell_type": "code",
   "execution_count": null,
   "metadata": {},
   "outputs": [],
   "source": [
    "# Your code"
   ]
  },
  {
   "cell_type": "markdown",
   "metadata": {},
   "source": [
    "- Multiply the content of odd columns by 3. Print the 5 first rows."
   ]
  },
  {
   "cell_type": "code",
   "execution_count": null,
   "metadata": {},
   "outputs": [],
   "source": [
    "# Your Code"
   ]
  },
  {
   "cell_type": "markdown",
   "metadata": {},
   "source": [
    "### Research Time:\n",
    "- Search what other methods besides dataframes can be use to load the ``.csv`` files. If there is any, find out how we can access the rows and columns with that method."
   ]
  },
  {
   "cell_type": "code",
   "execution_count": null,
   "metadata": {},
   "outputs": [],
   "source": [
    "# Your code:"
   ]
  },
  {
   "cell_type": "markdown",
   "metadata": {},
   "source": [
    "- Missing data (or missing values) is defined as the data value that is not stored for a variable in the observation of interest. Search what types of missing data we have and how we can handle the missing data."
   ]
  },
  {
   "cell_type": "code",
   "execution_count": null,
   "metadata": {},
   "outputs": [],
   "source": [
    "# Your answer (3-4 line):"
   ]
  },
  {
   "cell_type": "markdown",
   "metadata": {},
   "source": [
    "- Noisy data is data with a large amount of additional meaningless information in it called noise. Find the difference between noise and outliers. Mention a method that can be used to eliminate noise."
   ]
  },
  {
   "cell_type": "code",
   "execution_count": null,
   "metadata": {},
   "outputs": [],
   "source": [
    "# Your answer (3-4 line):"
   ]
  },
  {
   "cell_type": "markdown",
   "metadata": {},
   "source": [
    "**Coding Activity:**\n",
    "\n",
    "[The Cat and Mouse Game](http://tangra.cs.yale.edu/naclo/practice/2012A.html)\n",
    "\n",
    "Write a program that will able to understand coded messages based on the above pattern."
   ]
  },
  {
   "cell_type": "code",
   "execution_count": null,
   "metadata": {},
   "outputs": [],
   "source": [
    "# Your code:"
   ]
  },
  {
   "cell_type": "code",
   "execution_count": null,
   "metadata": {},
   "outputs": [],
   "source": [
    "print(\"Nice work today!\")"
   ]
  },
  {
   "cell_type": "markdown",
   "metadata": {},
   "source": [
    "References:\n",
    "    - Princeton AI4ALL NLP Project\n",
    "    - Zafarani, Reza, Mohammad Ali Abbasi, and Huan Liu. Social media mining: an introduction. Cambridge University Press, 2014."
   ]
  }
 ],
 "metadata": {
  "kernelspec": {
   "display_name": "Python 2",
   "language": "python",
   "name": "python2"
  },
  "language_info": {
   "codemirror_mode": {
    "name": "ipython",
    "version": 2
   },
   "file_extension": ".py",
   "mimetype": "text/x-python",
   "name": "python",
   "nbconvert_exporter": "python",
   "pygments_lexer": "ipython2",
   "version": "2.7.14"
  }
 },
 "nbformat": 4,
 "nbformat_minor": 2
}
