{
 "cells": [
  {
   "cell_type": "markdown",
   "metadata": {},
   "source": [
    "# <font color='SEAGREEN'>Day 2</font>\n",
    "# <font color='MEDIUMSEAGREEN'>Visualizing the Data</font>\n",
    "To get more sense of our data, lets use some visualization technique in python programming.\n"
   ]
  },
  {
   "cell_type": "markdown",
   "metadata": {},
   "source": [
    "Load the data in a dataframe called ``data``"
   ]
  },
  {
   "cell_type": "code",
   "execution_count": null,
   "metadata": {},
   "outputs": [],
   "source": [
    "# Your code"
   ]
  },
  {
   "cell_type": "code",
   "execution_count": null,
   "metadata": {},
   "outputs": [],
   "source": [
    "import matplotlib.pyplot as plt"
   ]
  },
  {
   "cell_type": "markdown",
   "metadata": {},
   "source": [
    "**Histograms**\n",
    "\n",
    "In this cell we will learn how to plot histograms. Histograms are diagrams consisting of rectangles (bins) whose height is proportional to the frequency of a variable (i.e., number of times the variable appears in the data) and whose width is equal to the class interval (i.e., the range of values that fall within the bin). "
   ]
  },
  {
   "cell_type": "code",
   "execution_count": null,
   "metadata": {},
   "outputs": [],
   "source": [
    "import numpy as np\n",
    "# Before we plot the histograms, let's check the age range for the patients to figure out what is a reasonable\n",
    "# width for the bins and how many bins we should use\n",
    "age = data.age\n",
    "print('Oldest: {0}; Youngest: {1}; Age Range: {2}'.format(max(age),min(age),max(age)-min(age)))\n",
    "# Based on the results, we don't need any bins below 29 years old and no bins above 77 years old. \n",
    "# We will set the bins width to one year to get a good resolution of the data. We use\n",
    "# the numpy linspace function to create an array of 48 evenly spaced numbers (representing the bins) between 29 and 77.\n",
    "bins = np.linspace(29, 77, 48)\n",
    "# Let's create the matplotlib figure where we will plots the histograms.\n",
    "fig = plt.figure(figsize=(10,10))\n",
    "# Plot the histograms. We use pyplot's hist function and provide and set the opacity of the plot to 0.5 through the alpha argument.\n",
    "plt.hist(age, bins, alpha=0.5, label='age of the patients')\n",
    "# Label the plot.\n",
    "plt.xlabel('Age')\n",
    "plt.ylabel('Frequency')\n",
    "# To make the plot look nicer, we set x-tick marks every 5 years. \n",
    "plt.xticks(np.arange(29, 77, 5.0))\n",
    "# same for the y-axis.\n",
    "plt.yticks(np.arange(0, 20, 2.0))\n",
    "# Plot a legend so that we can match the color of the histogram to the data.\n",
    "plt.legend(loc='upper right')\n",
    "# Show the plot\n",
    "plt.show()"
   ]
  },
  {
   "cell_type": "markdown",
   "metadata": {},
   "source": [
    "What can you infer from the above plot?"
   ]
  },
  {
   "cell_type": "code",
   "execution_count": null,
   "metadata": {},
   "outputs": [],
   "source": [
    "# Your answer:"
   ]
  },
  {
   "cell_type": "markdown",
   "metadata": {},
   "source": [
    "Decrease the number of the bins and run the program again\n",
    "\n",
    "*Show your work to the instructor*"
   ]
  },
  {
   "cell_type": "markdown",
   "metadata": {},
   "source": [
    "Repeat the same steps for ploting the histogram for the \"sex\" column. "
   ]
  },
  {
   "cell_type": "code",
   "execution_count": null,
   "metadata": {},
   "outputs": [],
   "source": [
    "# Your code"
   ]
  },
  {
   "cell_type": "markdown",
   "metadata": {},
   "source": [
    "### Box Plots\n",
    "\n",
    "The box plot is a standardized way of displaying the distribution of data based on the five key properties: \n",
    "minimum, first quartile, median, third quartile, and maximum. The median (Q2) of the data appears as a red line inside a box, where the lower and upper limits of the box denote the first (Q1) and third quantile (Q3) of the data. Box plots may also have lines extending vertically from the boxes (whiskers) indicating variability outside the upper and lower quartiles. Data that falls outside of the whiskers (outliers) usually appear as data points in the box plot. \n",
    "\n",
    "We will use the boxplot function from pyplot which computes the inter-quartile range IQR = (Q3-Q1), sets the upper whisker to extend up to the last data point less than Q3 + 1.5 IQR and sets the lower whisker to extend up to the first data point greater than Q1 - 1.5 IQR. Beyond the whiskers, data are considered outliers and are plotted as individual points.\n",
    "\n",
    "Below, we plot a box plot for age. "
   ]
  },
  {
   "cell_type": "code",
   "execution_count": null,
   "metadata": {},
   "outputs": [],
   "source": [
    "age_heart_diease = data.age[data.target==1]\n",
    "age_not_heart_diease = data.age[data.target==0]\n",
    "age = [age_heart_diease, age_not_heart_diease]\n",
    "print('Oldest: {0}; Youngest: {1}; Age Range: {2}'.format(max(age_heart_diease),min(age_heart_diease),max(age_heart_diease)-min(age_heart_diease)))\n",
    "print('Oldest: {0}; Youngest: {1}; Age Range: {2}'.format(max(age_not_heart_diease),min(age_not_heart_diease),max(age_not_heart_diease)-min(age_not_heart_diease)))\n",
    "# multiple box plots on one figure\n",
    "fig = plt.figure(figsize=(10,10))\n",
    "plt.boxplot(age)\n",
    "# Set y-axes to be between 20 and 88\n",
    "plt.ylim(20,80)\n",
    "# Set x-ticks to display labels\n",
    "labels = ('Heart Disease','Healthy')\n",
    "plt.xticks([1,2], labels)\n",
    "plt.show()"
   ]
  },
  {
   "cell_type": "markdown",
   "metadata": {},
   "source": [
    "Explain the code. What are the first few lines doing?"
   ]
  },
  {
   "cell_type": "code",
   "execution_count": null,
   "metadata": {},
   "outputs": [],
   "source": [
    "# Your answer:"
   ]
  },
  {
   "cell_type": "markdown",
   "metadata": {},
   "source": [
    "### Scatter Plots\n",
    "\n",
    "In this cell we will learn how to use scatter plots. Scatter plots are graphs in which the values of two variables are \n",
    "plotted along two axes, the pattern of the resulting points revealing any correlation present.\n",
    "We will use the age of patients with heart disease and the age of the healthy ones.\n"
   ]
  },
  {
   "cell_type": "code",
   "execution_count": null,
   "metadata": {},
   "outputs": [],
   "source": [
    "# Your code\n",
    "# to create a scatter plot using the pyplot scatter function\n",
    "# Pick the person's resting blood pressure, save it into a variable named trestbps\n",
    "# and the person's cholesterol measurement, save it into a variable named chol\n",
    "\n",
    "# EXERCISE, FIND OUT HOW YOU CAN USE SCATTER PLOT\n",
    "\n",
    "# HINT: plt.scatter()\n",
    "# use the .xlabel, .ylabel .xlim, .ylim and .title to make your plot more self-explanetory."
   ]
  },
  {
   "cell_type": "markdown",
   "metadata": {},
   "source": [
    "\n",
    "**What is correlation?**\n",
    "\n",
    "Correlation is a statistical technique that can show whether and how strongly pairs of variables are related.\n",
    "\n",
    "When the y variable tends to increase as the x variable increases, we say there is a positive correlation between the variables. Also, when the y variable tends to decrease as the x variable increases, we say there is a negative correlation between the variables. Finally, if there is no clear relationship between the two variables, we say there is no correlation between the two variables.\n",
    "\n",
    "<img src=\"images/corr.png\">\n",
    "\n",
    "If there is a positive or negative correlation between two features, it means one of the features are redundant. In other words, having that feature will not add any information to our data and we can eliminate it.\n",
    "\n",
    "Based on your illustrated scatter plot, are those features correlated?"
   ]
  },
  {
   "cell_type": "code",
   "execution_count": null,
   "metadata": {},
   "outputs": [],
   "source": [
    "# Your answer:"
   ]
  },
  {
   "cell_type": "markdown",
   "metadata": {},
   "source": [
    "Draw the scatter plot for (\"resting blood pressure\" vs \"maximum heart rate\") and (\"maximum heart rate\" vs \"cholesterol measurement\"), and see if there is a correlation between the features.\n",
    "\n",
    "*Show your work to the Instructor*"
   ]
  },
  {
   "cell_type": "code",
   "execution_count": null,
   "metadata": {},
   "outputs": [],
   "source": [
    "# Your code:"
   ]
  },
  {
   "cell_type": "markdown",
   "metadata": {},
   "source": [
    "We can compute the correlation by using the numpy corrcoef function which computes the Pearson correlation coefficient. The result is a number that lies between -1 and 1. -1 means that the variables are very strongly correlated in a negative way, 1 means that the variables are very strongly related in a positive way, and 0 means that the variables are not correlated with each other.\n",
    "\n",
    "Note that the Pearson correlation is a linear correlation measure (only tells you about whether a line in a scatter plot captures the relationship between the variables) and does not provide information on any nonlinear relationship there might exist between the two variables."
   ]
  },
  {
   "cell_type": "code",
   "execution_count": null,
   "metadata": {},
   "outputs": [],
   "source": [
    "# corrcoef returns what is known as the Pearson product-moment correlation coefficients. The correlation between the two\n",
    "# variables is equal to the non-diagonal entries of the array.\n",
    "Pearson_corr = np.corrcoef(trestbps, chol)\n",
    "age_corr = Pearson_corr[0,1] # or equivalently Pearson_corr[1,0]\n",
    "print(\"The correlation between \"\"Resting Blood Pressure\"\" and \"\"Cholesterol Measurement\"\" is {0}\".format(age_corr))"
   ]
  },
  {
   "cell_type": "markdown",
   "metadata": {},
   "source": [
    "Find out the correlation between two other plots you've illustrated."
   ]
  },
  {
   "cell_type": "code",
   "execution_count": null,
   "metadata": {},
   "outputs": [],
   "source": [
    "# Your code"
   ]
  },
  {
   "cell_type": "markdown",
   "metadata": {},
   "source": [
    "### Visualizing Categorical (Discrete) Variables\n",
    "\n",
    "#### Pie Charts\n",
    "\n",
    "You have probably seen and used pie charts before. They are great for visualizing proportions. Below we use a pie chart to\n",
    "visualize the chest pain experienced by the patients.\n",
    "\n",
    "As you learned yesterday, these are categorical variables, meaning that the variable can take on one of a limited, and usually fixed number of possible values, assigning each entry in the data to a particular group.\n",
    "\n",
    "We use the ``cp`` feature from the data which contain encoded information about the experienced chest pain. The entries in ``cp`` are either 0, 1, 2 or 3:\n",
    "\n",
    "1. Value 0: typical angina\n",
    "2. Value 1: atypical angina\n",
    "3. Value 3: non-anginal pain\n",
    "4. Value 4: asymptomatic"
   ]
  },
  {
   "cell_type": "code",
   "execution_count": null,
   "metadata": {},
   "outputs": [],
   "source": [
    "cp_heart_diease = data.cp[data.target==1];\n",
    "#  How many in each category? Use the len function to obtain the length of an array.\n",
    "cp_0 = len(cp_heart_diease[cp_heart_diease==0])\n",
    "cp_1 = len(cp_heart_diease[cp_heart_diease==1])\n",
    "cp_2 = len(cp_heart_diease[cp_heart_diease==2])\n",
    "cp_3 = len(cp_heart_diease[cp_heart_diease==3])\n",
    "\n",
    "# Pie chart, where the slices will be ordered and plotted counter-clockwise:\n",
    "labels = 'typical angina','atypical angina','non-anginal pain','asymptomatic' \n",
    "cp_sizes = [cp_0, cp_1, cp_2, cp_3]\n",
    "# We can also pass an array called \"explode\" which determines how much we want to highlight one of the pie slices.\n",
    "explode = (0, 0, 0, 0.1)  # only \"explode\" the 4th slice.\n",
    "# Set the plot font size to 22\n",
    "plt.rcParams.update({'font.size': 22})\n",
    "# We will create a pie chart for the mother and one for the father, but we will place both pie charts on the same figure.\n",
    "fig = plt.figure(figsize=(30,10))\n",
    "# To do this, we make use of subplots. Subplots partition the figure into multiple plots. \n",
    "plt.title('Experienced Chest Pain')\n",
    "plt.pie(cp_sizes, explode=explode, labels=labels, autopct='%1.1f%%',\n",
    "        shadow=True, startangle=90)\n",
    "plt.axis('equal') # Equal aspect ratio ensures that pie is drawn as a circle.\n",
    "plt.show()"
   ]
  },
  {
   "cell_type": "markdown",
   "metadata": {},
   "source": [
    "Code the pie chart for healthy persons"
   ]
  },
  {
   "cell_type": "code",
   "execution_count": null,
   "metadata": {},
   "outputs": [],
   "source": [
    "# Your code"
   ]
  },
  {
   "cell_type": "markdown",
   "metadata": {},
   "source": [
    "What can you infer from the pie charts?"
   ]
  },
  {
   "cell_type": "code",
   "execution_count": null,
   "metadata": {},
   "outputs": [],
   "source": [
    "# Your answer"
   ]
  },
  {
   "cell_type": "markdown",
   "metadata": {},
   "source": [
    "#### Bar Plots\n",
    "\n",
    "Another great way to visualize categorical variables is to use bar plots. Below, we plot the chest pain of patients with heart disease and ones without heart disease. To do this, we again use the feature ``cp``."
   ]
  },
  {
   "cell_type": "code",
   "execution_count": null,
   "metadata": {},
   "outputs": [],
   "source": [
    "\n",
    "cp_heart_diease = data.cp[data.target==1];\n",
    "cp_healthy = data.cp[data.target==0];\n",
    "\n",
    "cp_heart_diease_count = []\n",
    "cp_healthy_count = []\n",
    "cp_heart_diease_count.append(len(cp_heart_diease[cp_heart_diease==0]))\n",
    "cp_heart_diease_count.append(len(cp_heart_diease[cp_heart_diease==1]))\n",
    "cp_heart_diease_count.append(len(cp_heart_diease[cp_heart_diease==2]))\n",
    "cp_heart_diease_count.append(len(cp_heart_diease[cp_heart_diease==3]))\n",
    "\n",
    "cp_healthy_count.append(len(cp_healthy[cp_healthy==0]))\n",
    "cp_healthy_count.append(len(cp_healthy[cp_healthy==1]))\n",
    "cp_healthy_count.append(len(cp_healthy[cp_healthy==2]))\n",
    "cp_healthy_count.append(len(cp_healthy[cp_healthy==3]))\n",
    "    \n",
    "\n",
    "# We need to define the position of the bars. Since we have 4 levels of chest pain, we will set the position of the\n",
    "# bars to be at 1 2 3 and 4 on the x-axes. To make the two bars fit nicely, we set the width of the bars to 0.35\n",
    "bar_pos = np.arange(4)\n",
    "bar_width = 0.35\n",
    " \n",
    "# create plot\n",
    "fig = plt.figure(figsize=(30,10))\n",
    "\n",
    "rects1 = plt.bar(bar_pos, cp_heart_diease_count, bar_width, color='b', label='Heart Disease') \n",
    "rects2 = plt.bar(bar_pos + bar_width, cp_healthy_count, bar_width,color='g', label='Healthy') \n",
    "plt.title('Experienced Chest Pain')\n",
    "\n",
    "plt.xticks(bar_pos + bar_width/2, labels)\n",
    "plt.legend()\n",
    "plt.tight_layout()\n",
    "\n",
    "plt.show()"
   ]
  },
  {
   "cell_type": "markdown",
   "metadata": {},
   "source": [
    "Modify the above code and use \"for loops\" for the part:\n",
    "```python\n",
    "cp_heart_diease_count.append(len(cp_heart_diease[cp_heart_diease==0]))\n",
    "cp_heart_diease_count.append(len(cp_heart_diease[cp_heart_diease==1]))\n",
    "cp_heart_diease_count.append(len(cp_heart_diease[cp_heart_diease==2]))\n",
    "cp_heart_diease_count.append(len(cp_heart_diease[cp_heart_diease==3]))\n",
    "\n",
    "cp_healthy_count.append(len(cp_healthy[cp_healthy==0]))\n",
    "cp_healthy_count.append(len(cp_healthy[cp_healthy==1]))\n",
    "cp_healthy_count.append(len(cp_healthy[cp_healthy==2]))\n",
    "cp_healthy_count.append(len(cp_healthy[cp_healthy==3]))\n",
    "```\n",
    "\n",
    "*Show your work to the Instroctor*"
   ]
  },
  {
   "cell_type": "markdown",
   "metadata": {},
   "source": [
    "## Exploring more about the dateset\n"
   ]
  },
  {
   "cell_type": "markdown",
   "metadata": {},
   "source": [
    "Let's split the labels from the features."
   ]
  },
  {
   "cell_type": "code",
   "execution_count": null,
   "metadata": {},
   "outputs": [],
   "source": [
    "X = data.drop('target', 1)\n",
    "print(X.head())\n",
    "y = data['target']\n",
    "print(y.head())"
   ]
  },
  {
   "cell_type": "markdown",
   "metadata": {},
   "source": [
    "What do you think the drop function do?"
   ]
  },
  {
   "cell_type": "code",
   "execution_count": null,
   "metadata": {},
   "outputs": [],
   "source": [
    "# Your answer:"
   ]
  },
  {
   "cell_type": "markdown",
   "metadata": {},
   "source": [
    "### Exporting the data\n",
    "Now we'd like to export this, so that we can use it in the future:"
   ]
  },
  {
   "cell_type": "code",
   "execution_count": null,
   "metadata": {},
   "outputs": [],
   "source": [
    "X.to_csv(\"X.csv\", index=False)\n",
    "y.to_csv(\"y.csv\", index=False)"
   ]
  },
  {
   "cell_type": "markdown",
   "metadata": {},
   "source": [
    "### Learn More about Visualization\n",
    "**Exercise:** Write down a code that counts the patients with heart disease and healthy persons."
   ]
  },
  {
   "cell_type": "code",
   "execution_count": null,
   "metadata": {},
   "outputs": [],
   "source": [
    "# Your code"
   ]
  },
  {
   "cell_type": "markdown",
   "metadata": {},
   "source": [
    "**Exercise:** Show the histogram of the \"target\" column."
   ]
  },
  {
   "cell_type": "code",
   "execution_count": null,
   "metadata": {},
   "outputs": [],
   "source": [
    "# Your code"
   ]
  },
  {
   "cell_type": "markdown",
   "metadata": {},
   "source": [
    "You can have two histograms at the same time in one plot. To do so you can repeat the following line for each histogram.\n",
    "```python\n",
    "plt.hist(age1, bins, alpha=0.5, label='age1')\n",
    "plt.hist(age2, bins, alpha=0.5, label='age2')\n",
    "```\n",
    "**Exercise:** Rewrite the histogram code that will show the histogram for healthy persons as well as the heart disease patients in one plot."
   ]
  },
  {
   "cell_type": "code",
   "execution_count": null,
   "metadata": {},
   "outputs": [],
   "source": [
    "# Your code"
   ]
  },
  {
   "cell_type": "markdown",
   "metadata": {},
   "source": [
    "Learn how you can use subplots. \n",
    "\n",
    "**Exercise:** Show the pie charts you already have in a unified plot, each in one subplot."
   ]
  },
  {
   "cell_type": "code",
   "execution_count": null,
   "metadata": {},
   "outputs": [],
   "source": [
    "# Your code"
   ]
  },
  {
   "cell_type": "code",
   "execution_count": null,
   "metadata": {},
   "outputs": [],
   "source": [
    "print(\"Nice work today!\")"
   ]
  },
  {
   "cell_type": "markdown",
   "metadata": {},
   "source": [
    "References:\n",
    "    - Princeton AI4ALL Fragile Families Project\n",
    "    - Khan Academy"
   ]
  }
 ],
 "metadata": {
  "kernelspec": {
   "display_name": "Python 3",
   "language": "python",
   "name": "python3"
  },
  "language_info": {
   "codemirror_mode": {
    "name": "ipython",
    "version": 3
   },
   "file_extension": ".py",
   "mimetype": "text/x-python",
   "name": "python",
   "nbconvert_exporter": "python",
   "pygments_lexer": "ipython3",
   "version": "3.7.1"
  }
 },
 "nbformat": 4,
 "nbformat_minor": 2
}
