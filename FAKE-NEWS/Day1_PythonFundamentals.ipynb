{
 "cells": [
  {
   "cell_type": "markdown",
   "metadata": {},
   "source": [
    "# <font color='SEAGREEN'>Day 1 (Part 1)</font>\n",
    "# <font color='MEDIUMSEAGREEN'>Fundamental of Python Programming for Text Classification</font>\n",
    "Python is a popular language because it is open source, easy to learn, and has support for many popular libraries.\n",
    "There are two popular editions for Python: Python 2.X and Python 3.X. Python 2.X will be out of market soon, so it is better for us to get more familiar with the third edition.\n",
    "\n",
    "The main strength of Python for machine learning and data science is the abundance of dependable\n",
    "libraries. There are packages for scientific computing (Numpy and Scipy), machine learning\n",
    "(Scikit-learn), image processing (Scikit-image), computer vision (OpenCV), data visualization\n",
    "(Matplotlib) and deep learning (Pytorch, Tensorflow, MxNet, etc.). Most of these libraries can\n",
    "be installed with a single **pip** command, which makes setup very easy.\n",
    "\n",
    "## Jupyter Notebook\n",
    "\n",
    "Jupyter divides Python code into neat units called a cell. There are two types of cell!\n",
    "- **Markup cells** contain text, like this cell. Double click them to edit the text, and then press **< Shift > + < Enter >** to render it with formatting. Try double-clicking this text!\n",
    "- **Code cells** contain executable python code. Click them to edit the code, then press **< Shift > + < Enter >** to execute the block. Try it out below!\n"
   ]
  },
  {
   "cell_type": "code",
   "execution_count": null,
   "metadata": {},
   "outputs": [],
   "source": [
    "print(\"Hi, I'm a code cell! Click me and press shift + enter.\")"
   ]
  },
  {
   "cell_type": "markdown",
   "metadata": {},
   "source": [
    "You can add new cells using the plus sign on the menu above. Take a few minutes to look at the different options offered in the menu! There are a few that are especially useful: \n",
    "\n",
    "- File Menu \n",
    "    - \"Download As\" lets you save your notebook to your computer as a .ipynb file\n",
    "- Kernel Menu\n",
    "    - \"Restart the kernel\" clears the output of every cell. Can be useful if your code gets stuck!\n",
    "- Cell Menu\n",
    "    - \"Cell Type\" lets you change the type of cell you are working with\n",
    "    \n",
    "## Python Refresher\n",
    "First, let's do some exercises to refresh our memory of a few Python concepts.\n",
    "### Python objects, basic types, and variables\n",
    "Everything in Python is an **object** and every object in Python has a **type**. Some of the basic types include:\n",
    "\n",
    "- **`int`** (integer; a whole number with no decimal place)\n",
    "- **`float`** (float; a number that has a decimal place)\n",
    "- **`str`** (string; a sequence of characters enclosed in single quotes, double quotes, or triple quotes)\n",
    "- **`bool`** (boolean; a binary value that is either 'True' or 'False')\n",
    "- **`NoneType`** (a special type representing the absence of a value)\n",
    "\n",
    "In Python, a **variable** is a name you specify in your code that represents a specific **instance** of an object\n",
    "\n",
    "Defining variable names helps you remember what an object is supposed to represent or what you want to do with that object (so pick meaningful names!). Variables also allow you a lot of flexibility, letting you modify their value without having to know exactly what the new value should be. You'll see this later. \n",
    "<hr>\n",
    "\n"
   ]
  },
  {
   "cell_type": "code",
   "execution_count": null,
   "metadata": {},
   "outputs": [],
   "source": [
    "# Take a guess!\n",
    "some_num1 = 1\n",
    "some_num2 = 4\n",
    "(some_num1 + some_num2) * some_num2"
   ]
  },
  {
   "cell_type": "code",
   "execution_count": null,
   "metadata": {},
   "outputs": [],
   "source": [
    "# What type of variable will the result be?\n",
    "some_num1 + some_num2 == 5"
   ]
  },
  {
   "cell_type": "code",
   "execution_count": null,
   "metadata": {},
   "outputs": [],
   "source": [
    "# What might this do?\n",
    "simple_string1 = 'an example '\n",
    "simple_string2 = \"of strings \"\n",
    "simple_string1 + simple_string2"
   ]
  },
  {
   "cell_type": "code",
   "execution_count": null,
   "metadata": {},
   "outputs": [],
   "source": [
    "# Important! Notice that the string was not modified\n",
    "simple_string1"
   ]
  },
  {
   "cell_type": "code",
   "execution_count": null,
   "metadata": {},
   "outputs": [],
   "source": [
    "# Are these two expressions equal to each other?\n",
    "simple_string1 == simple_string2"
   ]
  },
  {
   "cell_type": "code",
   "execution_count": null,
   "metadata": {},
   "outputs": [],
   "source": [
    "# Add and re-assign\n",
    "simple_string1 += 'that re-assigned the original string'\n",
    "simple_string1"
   ]
  },
  {
   "cell_type": "markdown",
   "metadata": {},
   "source": [
    "### Basic containers\n",
    "\n",
    "> Note: **mutable** objects can be modified after creation and **immutable** objects cannot.\n",
    "\n",
    "Containers are objects that can be used to group other objects together. Some useful container types are:\n",
    "\n",
    "- **`str`** (string: immutable; indexed by integers; items are stored in the order they were added)\n",
    "- **`list`** (list: mutable; indexed by integers; items are stored in the order they were added)\n",
    "  - `[3, 5, 6, 3, 'dog', 'cat', False]`\n",
    "- **`tuple`** (tuple: immutable; indexed by integers; items are stored in the order they were added)\n",
    "  - `(3, 5, 6, 3, 'dog', 'cat', False)`\n",
    "- **`set`** (set: mutable; not indexed at all; items are NOT stored in the order they were added; can only contain immutable objects; does NOT contain duplicate objects)\n",
    "  - `{3, 5, 6, 3, 'dog', 'cat', False}`\n",
    "- **`dict`** (dictionary: mutable; key-value pairs are indexed by immutable keys; items are NOT stored in the order they were added)\n",
    "  - `{'name': 'Jane', 'age': 23, 'fav_foods': ['pizza', 'fruit', 'fish']}`\n",
    "\n",
    "When defining lists, tuples, or sets, use commas (,) to separate the individual items. When defining dicts, use a colon (:) to separate keys from values and commas (,) to separate the key-value pairs.\n",
    "\n",
    "Strings, lists, and tuples can use all the `+`, `*`, `+=`, and `*=` operators. \n",
    "\n",
    "You can modify items in lists and tuples by using the index of the value. \n",
    "- list[0] is the first value in a list (programming basically always starts at 0 index!). \n",
    "\n",
    "You can modify items in a dictionary by using the key for that item:\n",
    "- dict[key] is the dictionary item with key \"key\""
   ]
  },
  {
   "cell_type": "code",
   "execution_count": null,
   "metadata": {},
   "outputs": [],
   "source": [
    "# Assign some containers to different variables\n",
    "list1 = [99, \"Bottles \", \"of pop \", \"on the wall\"]\n",
    "tuple1 = (99, \"Bottles \", \"of pop\")\n",
    "dict1 = {'Number of bottles of pop on the wall': 98}"
   ]
  },
  {
   "cell_type": "code",
   "execution_count": null,
   "metadata": {},
   "outputs": [],
   "source": [
    "# Items in the list object are stored in the order they were added\n",
    "list1"
   ]
  },
  {
   "cell_type": "code",
   "execution_count": null,
   "metadata": {},
   "outputs": [],
   "source": [
    "# Items in the tuple object are stored in the order they were added\n",
    "tuple1"
   ]
  },
  {
   "cell_type": "code",
   "execution_count": null,
   "metadata": {},
   "outputs": [],
   "source": [
    "# Items in the dict object are not stored in the order they were added\n",
    "dict1"
   ]
  },
  {
   "cell_type": "code",
   "execution_count": null,
   "metadata": {},
   "outputs": [],
   "source": [
    "# You can change a list item\n",
    "list1[0] = 98\n",
    "list1\n",
    "# But you CAN'T change a tuple item"
   ]
  },
  {
   "cell_type": "code",
   "execution_count": null,
   "metadata": {},
   "outputs": [],
   "source": [
    "# Re-assign a dict item\n",
    "dict1[\"Number of bottles of pop on the wall\"] = 96\n",
    "dict1"
   ]
  },
  {
   "cell_type": "markdown",
   "metadata": {},
   "source": [
    "### Functions\n",
    "A Python function is written like this:\n",
    "\n",
    "```python\n",
    "def square(x):\n",
    "    return x**2\n",
    "```\n",
    "    \n",
    "The name of the function is square, x is the input variable, and the return keyword tells us what to give as output."
   ]
  },
  {
   "cell_type": "code",
   "execution_count": null,
   "metadata": {},
   "outputs": [],
   "source": [
    "# Exercise 1. Define a function called weight_conversion,that takes one variable (x) in pounds\n",
    "# uses the conversion formula Kilograms = pounds/2.2 and returns the weight in kilograms.\n",
    "\n",
    "#### YOUR CODE STARTS HERE ####\n",
    "#### YOUR CODE ENDS HERE ####\n",
    "\n",
    "print(\"Testing:\")\n",
    "for x in [10, 22, 180, 0]:\n",
    "    print(str(x), \" -> \", str(weight_conversion(x)))\n",
    "    print(\"CORRECT\" if weight_conversion(x)==(x/2.2) else \"INCORRECT\")"
   ]
  },
  {
   "cell_type": "markdown",
   "metadata": {},
   "source": [
    "### If-else statements\n",
    "\n",
    "An if/else statement looks like this:\n",
    "\n",
    "```\n",
    "if electoral_votes >= 270:\n",
    "    print(\"You win the election\")\n",
    "else:\n",
    "    print(\"You lose the election\")\n",
    "```\n",
    "\n",
    "The if-statement is evaluated (`electoral_votes >= 270`); if it's true then the code under the `if` is executed, if it's false then the code under the `else` is executed."
   ]
  },
  {
   "cell_type": "code",
   "execution_count": null,
   "metadata": {},
   "outputs": [],
   "source": [
    "# Exercise 2. Define a function called \"contains_ss\" that takes one variable (word) \n",
    "# and returns True if the word contains a double-s and False if it doesn't.\n",
    "# Hint: to test whether a string e.g. \"ss\" is inside another string variable e.g. word, write\n",
    "#    if \"ss\" in word: \n",
    "\n",
    "#### YOUR CODE STARTS HERE ####\n",
    "\n",
    "\n",
    "#### YOUR CODE ENDS HERE ####\n",
    "\n",
    "print(\"Testing:\")\n",
    "for word in [\"computer\", \"science\", \"lesson\"]:\n",
    "    print(\"{:s} ->\".format(word, contains_ss(word)), end=' ')\n",
    "    print(\"CORRECT\" if contains_ss(word)==(\"ss\" in word) else \"INCORRECT\")"
   ]
  },
  {
   "cell_type": "markdown",
   "metadata": {},
   "source": [
    "### More complex if-else statements\n",
    "\n",
    "Maybe you want to check *several* conditions? You can use an if/elif/else statement.\n",
    "\n",
    "```\n",
    "if teamA_score > teamB_score:\n",
    "    print(\"Team A wins\")\n",
    "elif teamA_score < teamB_score:\n",
    "    print(\"Team B wins\")\n",
    "else:\n",
    "    print(\"It's a tie!\")\n",
    "```\n",
    "\n",
    "`elif` stands for \"else if\". In fact, the above code is just a neater way of writing this:\n",
    "```\n",
    "if teamA_score > teamB_score:\n",
    "    print(\"Team A wins\")\n",
    "else:\n",
    "    if teamA_score < teamB_score:\n",
    "        print(\"Team B wins\")\n",
    "    else:\n",
    "        print(\"It's a tie!\")\n",
    "```\n",
    "\n",
    "You can have as many `elif` statments as you like. These are useful for when you want several options."
   ]
  },
  {
   "cell_type": "code",
   "execution_count": null,
   "metadata": {},
   "outputs": [],
   "source": [
    "# Exercise 3. Define a function called \"grade\" that takes one input (score).\n",
    "# If score >= 90, return the string \"A\"\n",
    "# Otherwise, if score >= 80, return the string \"B\"\n",
    "# Otherwise, if score >= 70, return the string \"C\"\n",
    "# Otherwise, if score >= 60, return the string \"D\"\n",
    "# Otherwise, if score >= 50, return the string \"E\"\n",
    "# Otherwise, return the string \"F\"\n",
    "\n",
    "#### YOUR CODE STARTS HERE ####\n",
    "\n",
    "\n",
    "#### YOUR CODE ENDS HERE ####\n",
    "\n",
    "\n",
    "print(\"Testing:\")\n",
    "for (score,g) in [(77,\"C\"),(80,\"B\"),(32,\"F\"),(100,\"A\"),(69,\"D\")]:\n",
    "    print(\"{:d} -> {:s}\".format((score, grade(score))), end=' ')\n",
    "    print(\"CORRECT\" if grade(score)==g else \"INCORRECT\")"
   ]
  },
  {
   "cell_type": "markdown",
   "metadata": {},
   "source": [
    "### Loops\n",
    "\n",
    "Loops are a useful tool that lets you reuse blocks of code without having to retype everything. There are several kinds of loops. The difference between them is what controls how many times they run: \n",
    "- **While** loops run as long as the condition at the top is True. That means they can run forever if you're not careful!\n",
    "- **For** loops run for as many times as there are objects in the container at the top of the loop."
   ]
  },
  {
   "cell_type": "code",
   "execution_count": null,
   "metadata": {},
   "outputs": [],
   "source": [
    "# An example of a while loop. What is the condition? What would happen if you didn't subtract one from index each time?\n",
    "index = 5\n",
    "while index > 0:\n",
    "    print(index)\n",
    "    index -= 1"
   ]
  },
  {
   "cell_type": "code",
   "execution_count": null,
   "metadata": {},
   "outputs": [],
   "source": [
    "# An example of a for loop. What is the collection?\n",
    "my_list = [5, 4, 3, 2, 1]\n",
    "for number in my_list:\n",
    "    print(number)"
   ]
  },
  {
   "cell_type": "markdown",
   "metadata": {},
   "source": [
    "A handy trick with loops is the range function. Say you want your loop to run 5 times, but you don't want to have to make a list with 5 numbers. You can do this:"
   ]
  },
  {
   "cell_type": "code",
   "execution_count": null,
   "metadata": {},
   "outputs": [],
   "source": [
    "# The syntax for the range function is range(start, end, increment). \n",
    "# If you only include one argument, the function will start at 0 and go until that number, increasing by 1 each time. \n",
    "for number in range(5, 0, -1):\n",
    "    print(number)"
   ]
  },
  {
   "cell_type": "markdown",
   "metadata": {},
   "source": [
    "### Python built-in functions\n",
    "\n",
    "A **function** is a Python object that you can \"call\" to **perform an action** or compute and **return another object**. You call a function by placing parentheses to the right of the function name. Some functions allow you to pass **arguments** inside the parentheses (separating multiple arguments with a comma). Internal to the function, these arguments are treated like variables.\n",
    "\n",
    "Python has several useful built-in functions to help you work with different objects and/or your environment. Here is a small sample of them:\n",
    "\n",
    "- **`type(obj)`** to determine the type of an object\n",
    "- **`len(container)`** to determine how many items are in a container\n",
    "- **`sorted(container)`** to return a new list from a container, with the items sorted\n",
    "- **`sum(container)`** to compute the sum of a container of numbers\n",
    "- **`min(container)`** to determine the smallest item in a container\n",
    "- **`max(container)`** to determine the largest item in a container\n",
    "- **`abs(number)`** to determine the absolute value of a number\n",
    "- **`repr(obj)`** to return a string representation of an object\n",
    "\n",
    "> Complete list of built-in functions: https://docs.python.org/3/library/functions.html\n"
   ]
  },
  {
   "cell_type": "code",
   "execution_count": null,
   "metadata": {},
   "outputs": [],
   "source": [
    "# Try out a few of the functions! See if you can predict the output for each one. "
   ]
  },
  {
   "cell_type": "markdown",
   "metadata": {},
   "source": [
    "## Importing modules\n",
    "\n",
    "- Modules are pre-packaged groups of Python files that you can import\n",
    "- After importing a module, you can use its functions without having to write them yourself\n",
    "- Here is a simple example of importing and using a module called numpy, which provides support for lots of different calculations and mathematical data structures:"
   ]
  },
  {
   "cell_type": "code",
   "execution_count": null,
   "metadata": {},
   "outputs": [],
   "source": [
    "# This line does the importing!\n",
    "# The format is: \"import (packagename) as (name you want to use for package in code).\n",
    "# If you leave the second part out, it will be called by its original name\n",
    "import numpy as np\n",
    "\n",
    "# Here is an example of a numpy ndarray, a really useful data structure to understand. It is an array of any dimensions,\n",
    "# Usually used to hold numbers. Numpy provides a lot of useful mathematical tools to work on arrays. \n",
    "\n",
    "ex_array = np.array([[1,2,3],[4,5,6]])    # Create a rank 2 array\n",
    "print(type(ex_array))            # Prints \"<class 'numpy.ndarray'>\"\n",
    "print(ex_array.shape)                     # Prints \"(2, 3)\"\n",
    "print(b[0, 0], b[0, 1], b[1, 0])   # Prints \"1 2 4\"\n",
    "ex_array[0,0] = 3\n",
    "print(ex_array)"
   ]
  },
  {
   "cell_type": "markdown",
   "metadata": {},
   "source": [
    "- To learn about what different functions or objects a module contains, you have to consult its documentation. For example, here is a link to the numpy documentation: https://docs.scipy.org/doc/numpy-1.14.0/reference/\n",
    "- Try picking a new function from the documentation and applying it to ex_array. What kinds of interesting things can you do?"
   ]
  },
  {
   "cell_type": "code",
   "execution_count": null,
   "metadata": {},
   "outputs": [],
   "source": [
    "# Your code"
   ]
  },
  {
   "cell_type": "markdown",
   "metadata": {},
   "source": [
    "# Write a rule-based text classifier\n",
    "Time to write a rule-based classifier!\n",
    "The function outline below uses a `if/elif/else` statement to return the predicted category of a text.\n",
    "\n",
    "Fill in the missing `if` and `elif` statements with something sensible (there is no one right answer)!\n",
    "\n",
    "Start with something simple; we'll build it into something more complicated later."
   ]
  },
  {
   "cell_type": "code",
   "execution_count": null,
   "metadata": {},
   "outputs": [],
   "source": [
    "def classify_rb(text):\n",
    "  text = str(text).lower() # this makes the text lower-case, so we don't have to worry about matching case\n",
    "\n",
    "  if ________:\n",
    "    return \"Medical\"\n",
    "  elif ________:\n",
    "    return \"Sports\"\n",
    "  elif ________:\n",
    "    return \"Technology\"\n",
    "  else:\n",
    "    return \"None\""
   ]
  },
  {
   "cell_type": "markdown",
   "metadata": {},
   "source": [
    "## Test your rule-based algorithm\n",
    "Use following texts to test your algorithm:\n",
    "- Medical: \"Through the Mayo Clinic and ASU Alliance for Health Care Faculty Summer Residency Program, six professors from the College of Health Solutions and Ira A. Fulton Schools of Engineering will spend six weeks working side by side with Mayo Clinic researchers at a Mayo Clinic site in either Rochester, Minnesota, or locally in Phoenix or Scottsdale. The teams will collaborate on research that seeks to have a direct impact on patient outcomes and experiences. This year’s cohort is tackling questions relating to Alzheimer’s disease, Type 1 diabetes, liver disease and more.\"\n",
    "- Sports: \"Arizona State football has added former Cincinnati Bengals head coach Marvin Lewis as a special advisor to Herm Edwards’ staff. “Marvin Lewis is one of the most respected minds in our game,” Edwards said in a press release Tuesday. “Whether as the winningest coach in the franchise history of the Cincinnati Bengals, or the architect of one the greatest defenses in NFL history, the 2000 Baltimore Ravens, Marvin has succeeded everywhere he has been and he has done it the right way. His passion for teaching will be an incredible benefit not only for our coaches, but also for the young men we are responsible for as students and athletes.”\"\n",
    "- Technology: \"With the advance of new printing and manufacturing technologies, heavy, rigid robots are being replaced with lightweight, flexible new systems. As humans increasingly share workspaces with robots, these softer versions offer a higher degree of safety and increased robotic capabilities. Soft, bio-inspired robots, which mimic animals like geckos, fish and octopuses — or humans — are able to adapt to solid, granular and fluid environments. The new materials used in the development of these robots are made possible by advanced printing and manufacturing techniques. According to Hamid Marvi, an ASU robotics professor whose research investigates the physics of biological systems, these developments will improve robotic support for search and rescue, medical applications and earth and space exploration.\"\n"
   ]
  },
  {
   "cell_type": "code",
   "execution_count": null,
   "metadata": {},
   "outputs": [],
   "source": [
    "# Your code"
   ]
  },
  {
   "cell_type": "markdown",
   "metadata": {},
   "source": [
    "## Break your rule-based classifier!\n",
    "\n",
    "It's time to FOOL THE RULES!\n",
    "\n",
    "You'll be deliberately trying to break each others' rule-based classifiers by writing tricky news that fool your neighbor's rule-based classifier. Once your own classifier has been fooled by a tricky text, it's your job to amend the rules in your classifier to account for the new case.\n",
    "\n",
    "### Write a text about Medical that will be misclassified\n",
    "\n",
    "Below, write a news about Medical (3-4 lines) that the classification function above will get wrong (i.e. fail to recognize it's about medical)\n",
    "\n",
    "Hint: think of less-obvious medical-related keywords that aren't included in the rule-based system above.\n",
    "\n",
    "Then run the cell - make sure the tweet is classified as something other than Medical!"
   ]
  },
  {
   "cell_type": "code",
   "execution_count": null,
   "metadata": {},
   "outputs": [],
   "source": [
    "medical_news = \"\"\n",
    "print(\"This text is classified as: {:s}\\n\".format(classify_rb(medical_news)))"
   ]
  },
  {
   "cell_type": "markdown",
   "metadata": {},
   "source": [
    "### Write a text about Sports that will be misclassified"
   ]
  },
  {
   "cell_type": "code",
   "execution_count": null,
   "metadata": {},
   "outputs": [],
   "source": [
    "# Your code"
   ]
  },
  {
   "cell_type": "markdown",
   "metadata": {},
   "source": [
    "### Write a text about Technology that will be misclassified"
   ]
  },
  {
   "cell_type": "code",
   "execution_count": null,
   "metadata": {},
   "outputs": [],
   "source": [
    "# Your code"
   ]
  },
  {
   "cell_type": "markdown",
   "metadata": {},
   "source": [
    "### Evaluation\n",
    "What is your thoughts on evaluating your classifier?"
   ]
  },
  {
   "cell_type": "code",
   "execution_count": null,
   "metadata": {},
   "outputs": [],
   "source": [
    "# write your answer in comment, here:\n",
    "#"
   ]
  },
  {
   "cell_type": "markdown",
   "metadata": {},
   "source": [
    "Modify your classify_rb function so it will classify the above examples correctly."
   ]
  },
  {
   "cell_type": "markdown",
   "metadata": {},
   "source": [
    "## More\n",
    "**Exercise:** [The Cat and Mouse Game](http://tangra.cs.yale.edu/naclo/practice/2012A.html)"
   ]
  },
  {
   "cell_type": "code",
   "execution_count": null,
   "metadata": {},
   "outputs": [],
   "source": [
    "# Your code"
   ]
  },
  {
   "cell_type": "markdown",
   "metadata": {},
   "source": [
    "## Conclusion\n",
    "Don't worry if you don't feel comfortable writing your own code yet. This was a basic high-level overview of some of the information we'll be covering in the upcoming days."
   ]
  },
  {
   "cell_type": "code",
   "execution_count": null,
   "metadata": {},
   "outputs": [],
   "source": [
    "print(\"Nice work today!\")"
   ]
  },
  {
   "cell_type": "markdown",
   "metadata": {},
   "source": [
    "References:\n",
    "    - Princeton AI4ALL NLP Project"
   ]
  }
 ],
 "metadata": {
  "kernelspec": {
   "display_name": "Python 3",
   "language": "python",
   "name": "python3"
  },
  "language_info": {
   "codemirror_mode": {
    "name": "ipython",
    "version": 3
   },
   "file_extension": ".py",
   "mimetype": "text/x-python",
   "name": "python",
   "nbconvert_exporter": "python",
   "pygments_lexer": "ipython3",
   "version": "3.7.1"
  }
 },
 "nbformat": 4,
 "nbformat_minor": 2
}
