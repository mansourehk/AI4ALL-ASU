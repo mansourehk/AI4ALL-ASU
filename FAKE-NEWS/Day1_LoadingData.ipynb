{
 "cells": [
  {
   "cell_type": "markdown",
   "metadata": {},
   "source": [
    "# <font color='SEAGREEN'>Day 1 (Part 2)</font>\n",
    "# <font color='MEDIUMSEAGREEN'>Loading the Data</font>\n",
    "As we already know, data is an important part of our machine learning program.\n",
    "\n",
    "Today we will learn how to load the data into python."
   ]
  },
  {
   "cell_type": "markdown",
   "metadata": {},
   "source": [
    "## Dataset\n",
    "To download the data go to https://www.kaggle.com/mdepak/fakenewsnet/version/1 and download the following files:\n",
    "\n",
    "    - BuzzFeed_fake_news_content.csv\n",
    "    - BuzzFeed_real_news_content.csv\n",
    "\n",
    "These files contain the data for the Fake News gathered by researchers from DMML lab at ASU in the \"csv\" format. \"csv\" stands for \"comma-separate values\". We'll use this information later, when we tell the program how to load this data.\n",
    "\n",
    "PRO TIP: Make sure that the downloaded datasets and this jupyter notebook are in the same directory (folder), else you will have problems later.\n",
    "\n",
    "Open these two files (with Microsoft Excel) and understand what the data contains.\n",
    "Try to answer the following questions:\n",
    "\n",
    "    - What information do these .csv files contain?\n",
    "    - Which columns do you think are important in classifying them to fake and real news?\n",
    "    - How many news are collected?\n"
   ]
  },
  {
   "cell_type": "code",
   "execution_count": null,
   "metadata": {},
   "outputs": [],
   "source": [
    "# Write your answers in comments below (1 line, each):\n",
    "# Answer to Q1.\n",
    "# Answer to Q2.\n",
    "# Answer to Q3."
   ]
  },
  {
   "cell_type": "markdown",
   "metadata": {},
   "source": [
    "Refer to the paper *\"FakeNewsNet: A Data Repository with News Content, Social Context and Dynamic Information for Studying Fake News on Social Media\"* and read the *\"Dataset Integration\"* part to understand how they extracted the content of these articles.\n",
    "\n",
    "link to the paper --> https://arxiv.org/abs/1809.01286\n",
    "\n",
    "    - How was the data collected?\n"
   ]
  },
  {
   "cell_type": "code",
   "execution_count": null,
   "metadata": {},
   "outputs": [],
   "source": [
    "# Write your answer in comments below (3-4 line):"
   ]
  },
  {
   "cell_type": "markdown",
   "metadata": {},
   "source": [
    "### Load the Data\n",
    "To load the data we should import the needed packages/libraries for our dataset."
   ]
  },
  {
   "cell_type": "code",
   "execution_count": null,
   "metadata": {},
   "outputs": [],
   "source": [
    "import pandas as pd\n",
    "import numpy as np"
   ]
  },
  {
   "cell_type": "markdown",
   "metadata": {},
   "source": [
    "Run the following code to load the data you downloaded into DataFrames."
   ]
  },
  {
   "cell_type": "code",
   "execution_count": null,
   "metadata": {},
   "outputs": [],
   "source": [
    "fake_news_content = pd.read_csv(\"BuzzFeed_fake_news_content.csv\", encoding = \"utf-8\")\n",
    "real_news_content = pd.read_csv(\"BuzzFeed_real_news_content.csv\", encoding = \"utf-8\") "
   ]
  },
  {
   "cell_type": "code",
   "execution_count": null,
   "metadata": {
    "scrolled": false
   },
   "outputs": [],
   "source": [
    "fake_news_content.head()"
   ]
  },
  {
   "cell_type": "markdown",
   "metadata": {},
   "source": [
    "What do you think head() function do?"
   ]
  },
  {
   "cell_type": "code",
   "execution_count": null,
   "metadata": {},
   "outputs": [],
   "source": [
    "# Write down your answer in comments (one line):\n",
    "#"
   ]
  },
  {
   "cell_type": "code",
   "execution_count": null,
   "metadata": {},
   "outputs": [],
   "source": [
    "fake_news_content.iloc[0]"
   ]
  },
  {
   "cell_type": "markdown",
   "metadata": {},
   "source": [
    "What does .iloc will return?"
   ]
  },
  {
   "cell_type": "code",
   "execution_count": null,
   "metadata": {},
   "outputs": [],
   "source": [
    "# Write down your answer in comments (one line):\n",
    "#"
   ]
  },
  {
   "cell_type": "markdown",
   "metadata": {},
   "source": [
    "### Layout of the Data\n",
    "The ``.columns`` parameter of a DataFrame tells us the name of the columns. Run the following cells to examine the column names of the DataFrames we just created."
   ]
  },
  {
   "cell_type": "code",
   "execution_count": null,
   "metadata": {},
   "outputs": [],
   "source": [
    "fake_news_content.columns"
   ]
  },
  {
   "cell_type": "code",
   "execution_count": null,
   "metadata": {},
   "outputs": [],
   "source": [
    "real_news_content.columns"
   ]
  },
  {
   "cell_type": "markdown",
   "metadata": {},
   "source": [
    "Now that we've looked at the columns of the dataset, let's look at the rows. How many rows are in each dataset? We can use the ``.shape`` parameter to tell us about the number of rows in each dataset. Can you guess what the second number, returned by ``.shape``, corresponds to?"
   ]
  },
  {
   "cell_type": "code",
   "execution_count": null,
   "metadata": {},
   "outputs": [],
   "source": [
    "fake_news_content.shape"
   ]
  },
  {
   "cell_type": "code",
   "execution_count": null,
   "metadata": {},
   "outputs": [],
   "source": [
    "real_news_content.shape"
   ]
  },
  {
   "cell_type": "code",
   "execution_count": null,
   "metadata": {},
   "outputs": [],
   "source": [
    "# Your answer:"
   ]
  },
  {
   "cell_type": "markdown",
   "metadata": {},
   "source": [
    "### Re-organize the data\n",
    "The data we loaded contains all the information we need, but it has the articles for fake and real news in different dataframes. \n",
    "\n",
    "To make the data easier to work with, we'd like to put the information about the articles in one dataFrame.\n",
    "\n",
    "    - If we use one dataframe for all, how can we differentiate between fake and real news? \n",
    "    "
   ]
  },
  {
   "cell_type": "code",
   "execution_count": null,
   "metadata": {},
   "outputs": [],
   "source": [
    "# Write down your answer in comments (one line):\n",
    "#"
   ]
  },
  {
   "cell_type": "code",
   "execution_count": null,
   "metadata": {},
   "outputs": [],
   "source": [
    "frames = [fake_news_content, real_news_content]\n",
    "data = pd.concat(frames)\n",
    "# data = pd.merge(fake_news_content, real_news_content)"
   ]
  },
  {
   "cell_type": "code",
   "execution_count": null,
   "metadata": {},
   "outputs": [],
   "source": [
    "data.shape"
   ]
  },
  {
   "cell_type": "markdown",
   "metadata": {},
   "source": [
    "Now we need to create the labels for our dataset.\n",
    "    - What do you think the below two code lines do?\n",
    "PRO TIP: you can create a code cell below the code and use ``.head()`` function to get the sense of the dataframes."
   ]
  },
  {
   "cell_type": "code",
   "execution_count": null,
   "metadata": {},
   "outputs": [],
   "source": [
    "# Write down your answer in comments (one line):\n",
    "#"
   ]
  },
  {
   "cell_type": "code",
   "execution_count": null,
   "metadata": {},
   "outputs": [],
   "source": [
    "y_fake = pd.DataFrame(1, index=np.arange(len(fake_news_content)), columns=[\"label\"])\n",
    "y_real = pd.DataFrame(0, index=np.arange(len(real_news_content)), columns=[\"label\"])"
   ]
  },
  {
   "cell_type": "markdown",
   "metadata": {},
   "source": [
    "Concatenate the ``y_fake`` and ``y_real`` dataframes into one dataframe named ``y_data``. Verify the merged dataframe by calling the ``.shape`` function."
   ]
  },
  {
   "cell_type": "code",
   "execution_count": null,
   "metadata": {},
   "outputs": [],
   "source": [
    "# your code goes here"
   ]
  },
  {
   "cell_type": "markdown",
   "metadata": {},
   "source": [
    "### Exporting the data\n",
    "Now that we have created an amalgamated dataset, we'd like to export this, so that we can use it in the future:"
   ]
  },
  {
   "cell_type": "code",
   "execution_count": null,
   "metadata": {},
   "outputs": [],
   "source": [
    "data.to_csv(\"data.csv\", index=False, encoding = \"utf-8\")\n",
    "y_data.to_csv(\"labels.csv\", index=False)"
   ]
  },
  {
   "cell_type": "markdown",
   "metadata": {},
   "source": [
    "### Learn More about Dataframes\n",
    "Search more about the dataframes (in pandas documentation) and find out how you can only access a specific column.\n",
    "\n",
    "Create a new dataframe that only includes the text of the articles."
   ]
  },
  {
   "cell_type": "code",
   "execution_count": null,
   "metadata": {},
   "outputs": [],
   "source": [
    "# Your code"
   ]
  },
  {
   "cell_type": "markdown",
   "metadata": {},
   "source": [
    "## Learn More about Types of Data\n",
    "In machine learning, data is represented in a tabular format. Consider the example of predicting whether an individual who visits an online book seller is going to buy a specific book. This prediction can be performed by analyzing the individual’s interests and previous purchase history. For instance, when John has spent a lot of money on the site, has bought similar\n",
    "books, and visits the site frequently, it is likely for John to buy that specific book. John is an example of an instance. Instances are also called points, data points, or observations. A dataset consists of one or more instances:\n",
    "\n",
    "<img src=\"images/tb1.png\">\n",
    "\n",
    "A dataset is represented using a set of features, and an instance is represented using values assigned to these features. Features are also known as *measurements* or *attributes*. In the above example, the features are Name, Money Features, Measurements, or Attributes Spent, Bought Similar, and Visits; feature values for the first instance are John, High, Yes, and Frequently. Given the feature values for one instance, one tries to predict its class (or class attribute) value. In our example, the class attribute is Will Buy, and our class value prediction for first instance is Yes. An instance such as John in which the class attribute value is unknown is called an unlabeled instance. Similarly, a labeled instance is an instance in which the class attribute value in known. Mary in this Labeled and dataset represents a labeled instance. The class attribute is optional in a Unlabeled dataset and is only necessary for prediction or classification purposes. One can have a dataset in which no class attribute is present, such as a list of customers and their characteristics.\n",
    "\n",
    "There are different types of features based on the characteristics of the feature and the values they can take. For instance, Money Spent can be represented using numeric values, such as $25. In that case, we have a continuous feature, whereas in our example it is a discrete feature, which can take a number of ordered values: {High, Normal, Low}.\n",
    "\n",
    "### Different Types of Data\n",
    "\n",
    "1. **Nominal (categorical)**. These features take values that are often represented as strings. For instance, a customer’s name is a nominal feature. In general, a few statistics can be computed on nominal features. Examples are the chi-square statistic (χ2) and the mode (most common feature value). For example, one can find the most common first name among customers. The only possible transformation on the data is comparison. For example, we can check whether our customer’s name is John or not. Nominal feature values are often presented in a set format.\n",
    "\n",
    "2. **Ordinal**. Ordinal features lay data on an ordinal scale. In other words, the feature values have an intrinsic order to them. In our example, Money Spent is an ordinal feature because a High value for Money Spent is more than a Low one.\n",
    "\n",
    "3. **Interval**. In interval features, in addition to their intrinsic ordering, differences are meaningful whereas ratios are meaningless. For interval features, addition and subtraction are allowed, whereas multiplications and division are not. Consider two time readings: 6:16 PM and 3:08 PM. The difference between these two time readings is meaningful (3 hours and 8 minutes); however, there is no meaning to $\\frac{6:16 PM}{3:08 PM} \\neq 2$.\n",
    "\n",
    "4. **Ratio**. Ratio features, as the name suggests, add the additional properties of multiplication and division. An individual’s income is an example of a ratio feature where not only differences and additions are meaningful but ratios also have meaning (e.g., an individual’s income can be twice as much as John’s income).\n",
    "\n",
    "### Example\n",
    "Study the below table and list the type of each feature. Explain.\n",
    "\n",
    "<img src=\"images/tb2.png\">"
   ]
  },
  {
   "cell_type": "code",
   "execution_count": null,
   "metadata": {},
   "outputs": [],
   "source": [
    "# Your answer:\n",
    "# 1. Outlook:\n",
    "# 2. Temperature:\n",
    "# 3. Humidity:\n",
    "# 4. Windy:\n",
    "# 5. Play:"
   ]
  },
  {
   "cell_type": "code",
   "execution_count": null,
   "metadata": {},
   "outputs": [],
   "source": [
    "print(\"Nice work today!\")"
   ]
  }
 ],
 "metadata": {
  "kernelspec": {
   "display_name": "Python 2",
   "language": "python",
   "name": "python2"
  },
  "language_info": {
   "codemirror_mode": {
    "name": "ipython",
    "version": 2
   },
   "file_extension": ".py",
   "mimetype": "text/x-python",
   "name": "python",
   "nbconvert_exporter": "python",
   "pygments_lexer": "ipython2",
   "version": "2.7.14"
  }
 },
 "nbformat": 4,
 "nbformat_minor": 2
}
